{
 "cells": [
  {
   "cell_type": "code",
   "execution_count": 23,
   "id": "e0f08712-178a-47aa-a3db-cb0b30fad2a5",
   "metadata": {},
   "outputs": [],
   "source": [
    "class state:\n",
    "    def __init__(self, name):\n",
    "        self.name = name\n",
    "        self.goto = {}\n",
    "        self.isFinal = False\n",
    "\n",
    "    def setNextState(self, input, state):\n",
    "        self.goto[input] = state\n",
    "        \n",
    "    def setAsFinal(self):\n",
    "        self.isFinal = True\n",
    "\n",
    "    def input(self, input):\n",
    "        return self.goto.get(input, None)\n",
    "# change the next state options"
   ]
  },
  {
   "cell_type": "code",
   "execution_count": 50,
   "id": "31950ef9-6893-4a41-b0b5-f9ab9fe99d58",
   "metadata": {},
   "outputs": [],
   "source": [
    "class dfa:\n",
    "    #defining the states\n",
    "    def states(self, *args):\n",
    "        self.q = {}\n",
    "        for i in args:\n",
    "            self.q[i] = state(i)\n",
    "            \n",
    "    def initialState(self, state):\n",
    "        self.initial = self.q[state]\n",
    "\n",
    "    #to contruct the dfa\n",
    "    def construct(self, *prod):\n",
    "        # production are a:0b\n",
    "        for p in prod:\n",
    "            self.q[p[0]].setNextState(p[-2], self.q[p[-1]]) # taking the node and calling function next( input, next state )\n",
    "\n",
    "    def check(self, str):\n",
    "        head = self.initial\n",
    "        for i in str:\n",
    "            if head.input(i):\n",
    "                head = head.input(i)\n",
    "        if head:\n",
    "            return head.isFinal\n",
    "        else:\n",
    "            return False\n",
    "\n",
    "    def finalStates(self, *states):\n",
    "        for i in states:\n",
    "            self.q[i].setAsFinal()\n",
    "        \n",
    "    #describe the dfa\n",
    "    def desc(self):\n",
    "        print(self.q)"
   ]
  },
  {
   "cell_type": "code",
   "execution_count": 53,
   "id": "440ca71c-c3bd-4e36-b0b4-d7044904bc9e",
   "metadata": {},
   "outputs": [
    {
     "data": {
      "text/plain": [
       "True"
      ]
     },
     "execution_count": 53,
     "metadata": {},
     "output_type": "execute_result"
    }
   ],
   "source": [
    "# (Q, in, transition, initial, final)\n",
    "st = list('abc')\n",
    "inputs = [0,1]\n",
    "initial = 'a'\n",
    "tran = ['a:1a', 'a:0b', 'b:0c', 'b:1a','c:0c', 'c:1a']\n",
    "final = 'c'\n",
    "\n",
    "df1 = dfa()\n",
    "df1.states(*st) #  to CREATE the states\n",
    "df1.initialState('a') # defining initial state\n",
    "df1.finalStates('c') # defining final state\n",
    "df1.construct(*tran) # constructing dfa using tha transitions\n",
    "\n",
    "df1.check('10100') # checking if the string accepted or not\n"
   ]
  },
  {
   "cell_type": "code",
   "execution_count": 22,
   "id": "c42e5019-c13f-4aee-a402-d7c855435beb",
   "metadata": {
    "scrolled": true
   },
   "outputs": [
    {
     "name": "stdout",
     "output_type": "stream",
     "text": [
      "True a\n",
      "{'a': <__main__.state object at 0x106c72550>} {'a': <__main__.state object at 0x106c71f50>}\n"
     ]
    }
   ],
   "source": [
    "a = state('a')\n",
    "b = state('b')\n",
    "\n",
    "a.setNextState(\"a\", b)\n",
    "a.setAsFinal()\n",
    "\n",
    "\n",
    "b.setNextState(\"a\",a)\n",
    "\n",
    "inpstr = 'aa'\n",
    "head = a\n",
    "for i in inpstr:\n",
    "    if head.input(i):\n",
    "        head = head.input(i)\n",
    "if head:\n",
    "    print(head.isFinal, head.name)\n",
    "else:\n",
    "    print(False)\n",
    "print(a.goto, b.goto)"
   ]
  },
  {
   "cell_type": "code",
   "execution_count": 49,
   "id": "31faefa5-3e3e-4228-82b0-ced340e8e2bb",
   "metadata": {},
   "outputs": [
    {
     "name": "stdout",
     "output_type": "stream",
     "text": [
      "1 2 3 4 2\n"
     ]
    }
   ],
   "source": []
  }
 ],
 "metadata": {
  "kernelspec": {
   "display_name": "Python 3 (ipykernel)",
   "language": "python",
   "name": "python3"
  },
  "language_info": {
   "codemirror_mode": {
    "name": "ipython",
    "version": 3
   },
   "file_extension": ".py",
   "mimetype": "text/x-python",
   "name": "python",
   "nbconvert_exporter": "python",
   "pygments_lexer": "ipython3",
   "version": "3.11.5"
  }
 },
 "nbformat": 4,
 "nbformat_minor": 5
}
