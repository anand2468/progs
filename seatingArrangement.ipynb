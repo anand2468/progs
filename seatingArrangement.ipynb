{
 "cells": [
  {
   "cell_type": "code",
   "execution_count": 1,
   "id": "f2b23b34-e59c-4934-a637-29fb120419ea",
   "metadata": {},
   "outputs": [],
   "source": [
    "class room:\n",
    "    def __init__(self, rno, strength):\n",
    "        self.rno = rno\n",
    "        self.strength = strength\n",
    "        self.row1 = strength //2\n",
    "        self.row2 = strength//2\n",
    "        self.dt = {'row1':[], 'row2':[]}\n",
    "        self.record = []\n",
    "\n",
    "    def isEmpty(self):\n",
    "        return True if self.row1 != 0 or self.row2 != 0 else False\n",
    "\n",
    "    def desc(self):\n",
    "        return f'{ self.rno } is Alloted to {self.dt}\\nrecord is {self.record}'\n",
    "    def canFill(self, branch):\n",
    "        if branch in self.dt['row1'] or branch in self.dt['row2']:\n",
    "            return False\n",
    "        return True\n",
    "        \n",
    "    def fill(self, n, branch):\n",
    "        if not self.canFill(branch):\n",
    "            return n\n",
    "        if self.row1 >= self.row2:\n",
    "            temp = min(n, self.row1)\n",
    "            n -= temp\n",
    "            self.row1 -= temp\n",
    "            if temp != 0:\n",
    "                self.dt['row1'].append(branch)\n",
    "                self.record.append([branch, \"row1\", temp ])\n",
    "        else:\n",
    "            temp = min(n, self.row2)\n",
    "            n -= temp\n",
    "            self.row2 -= temp\n",
    "            if temp != 0:\n",
    "                self.dt['row2'].append(branch)\n",
    "                self.record.append([branch, \"row2\", temp ])\n",
    "        return n\n",
    "                \n",
    "\n",
    "class std:\n",
    "    def __init__(a,branch, strength):\n",
    "        a.rno = branch\n",
    "        a.strength = strength\n",
    "        a.remaining = strength\n",
    "        \n",
    "    def isleft(self):\n",
    "        return self.remaining != 0"
   ]
  },
  {
   "cell_type": "code",
   "execution_count": 2,
   "id": "cd7a458c-f196-41ca-a73d-fe1c886608b9",
   "metadata": {},
   "outputs": [],
   "source": [
    "roomsList = [room('LSF2', 50), room('VFF10', 50), room('VTF2',60), room('VTF3',60), room('VFF5', 50), room('LLF2', 70),\n",
    "             room('LLF4', 70), room('LLF13', 50), room('VTF5',34), room('LLF14',72), room('VTF1',60), room('LLF3',68),\n",
    "             room('LSF7', 60), room('LSF10', 72), room('LTF10', 60)]"
   ]
  },
  {
   "cell_type": "code",
   "execution_count": 3,
   "id": "2b940b5b-f4ee-4723-8691-26097578d60d",
   "metadata": {},
   "outputs": [],
   "source": [
    "clsList = [std('cse', 191), std('csm', 68), std('cai', 66), std('aim', 52),\n",
    "           std('it', 63), std('ce', 48), std('me', 69), std('ece',179),\n",
    "          std('csd', 61), std('eee', 75)]"
   ]
  },
  {
   "cell_type": "code",
   "execution_count": 5,
   "id": "d4489197-6eb5-4bc2-9e04-c6a38e92d6ff",
   "metadata": {
    "scrolled": true
   },
   "outputs": [],
   "source": [
    "import random\n",
    "count = 0\n",
    "rmss = roomsList.copy()\n",
    "for i in clsList:\n",
    "    while i.isleft():\n",
    "        count += 1\n",
    "        rm = random.choice(rmss)\n",
    "        if not rm.isEmpty():\n",
    "            rmss.remove(rm)\n",
    "            continue\n",
    "        i.remaining = rm.fill(i.remaining, i.rno)\n",
    "        # print(f'{i.rno} , {i.remaining}, {rm.rno}')\n",
    "        if count >1000:\n",
    "            break\n"
   ]
  },
  {
   "cell_type": "code",
   "execution_count": 6,
   "id": "5572358e-f231-440e-a247-df418745e0a0",
   "metadata": {},
   "outputs": [
    {
     "name": "stdout",
     "output_type": "stream",
     "text": [
      "LSF2 is Alloted to {'row1': ['me'], 'row2': ['eee']}\n",
      "[['me', 'row1', 18], ['eee', 'row2', 18]]\n",
      "\n",
      "VFF10 is Alloted to {'row1': ['ce'], 'row2': ['ece']}\n",
      "[['ce', 'row1', 25], ['ece', 'row2', 25]]\n",
      "\n",
      "VTF2 is Alloted to {'row1': ['cse'], 'row2': ['csm']}\n",
      "[['cse', 'row1', 30], ['csm', 'row2', 30]]\n",
      "\n",
      "VTF3 is Alloted to {'row1': ['aim', 'ece'], 'row2': ['it']}\n",
      "[['aim', 'row1', 27], ['it', 'row2', 30], ['ece', 'row1', 3]]\n",
      "\n",
      "VFF5 is Alloted to {'row1': ['aim'], 'row2': ['csd', 'eee']}\n",
      "[['aim', 'row1', 25], ['csd', 'row2', 16], ['eee', 'row2', 9]]\n",
      "\n",
      "LLF2 is Alloted to {'row1': ['it', 'csd'], 'row2': ['ece']}\n",
      "[['it', 'row1', 33], ['ece', 'row2', 35], ['csd', 'row1', 2]]\n",
      "\n",
      "LLF4 is Alloted to {'row1': ['ce', 'eee'], 'row2': ['ece']}\n",
      "[['ce', 'row1', 23], ['ece', 'row2', 35], ['eee', 'row1', 12]]\n",
      "\n",
      "LLF13 is Alloted to {'row1': ['cse'], 'row2': ['csm']}\n",
      "[['cse', 'row1', 25], ['csm', 'row2', 25]]\n",
      "\n",
      "VTF5 is Alloted to {'row1': ['cse'], 'row2': ['csd']}\n",
      "[['cse', 'row1', 17], ['csd', 'row2', 17]]\n",
      "\n",
      "LLF14 is Alloted to {'row1': ['cai'], 'row2': ['ece', 'csd']}\n",
      "[['cai', 'row1', 36], ['ece', 'row2', 10], ['csd', 'row2', 26]]\n",
      "\n",
      "VTF1 is Alloted to {'row1': ['cse', 'ece'], 'row2': ['csm', 'me']}\n",
      "[['cse', 'row1', 25], ['csm', 'row2', 13], ['me', 'row2', 17], ['ece', 'row1', 5]]\n",
      "\n",
      "LLF3 is Alloted to {'row1': ['cse'], 'row2': ['me']}\n",
      "[['cse', 'row1', 34], ['me', 'row2', 34]]\n",
      "\n",
      "LSF7 is Alloted to {'row1': ['cse'], 'row2': ['ece']}\n",
      "[['cse', 'row1', 30], ['ece', 'row2', 30]]\n",
      "\n",
      "LSF10 is Alloted to {'row1': ['ece'], 'row2': ['eee']}\n",
      "[['ece', 'row1', 36], ['eee', 'row2', 36]]\n",
      "\n",
      "LTF10 is Alloted to {'row1': ['cse'], 'row2': ['cai']}\n",
      "[['cse', 'row1', 30], ['cai', 'row2', 30]]\n",
      "\n"
     ]
    }
   ],
   "source": [
    "for i in roomsList:\n",
    "    print(f'{ i.rno } is Alloted to {i.dt}\\n{i.record}')\n",
    "    print()"
   ]
  },
  {
   "cell_type": "code",
   "execution_count": 8,
   "id": "b7074363-1e8e-403c-9d9d-5f812a9aedce",
   "metadata": {},
   "outputs": [
    {
     "name": "stdout",
     "output_type": "stream",
     "text": [
      "{'row1': ['me'], 'row2': ['eee']}\n",
      "{'row1': ['ce'], 'row2': ['ece']}\n",
      "{'row1': ['cse'], 'row2': ['csm']}\n",
      "{'row1': ['aim', 'ece'], 'row2': ['it']}\n",
      "{'row1': ['aim'], 'row2': ['csd', 'eee']}\n",
      "{'row1': ['it', 'csd'], 'row2': ['ece']}\n",
      "{'row1': ['ce', 'eee'], 'row2': ['ece']}\n",
      "{'row1': ['cse'], 'row2': ['csm']}\n",
      "{'row1': ['cse'], 'row2': ['csd']}\n",
      "{'row1': ['cai'], 'row2': ['ece', 'csd']}\n",
      "{'row1': ['cse', 'ece'], 'row2': ['csm', 'me']}\n",
      "{'row1': ['cse'], 'row2': ['me']}\n",
      "{'row1': ['cse'], 'row2': ['ece']}\n",
      "{'row1': ['ece'], 'row2': ['eee']}\n",
      "{'row1': ['cse'], 'row2': ['cai']}\n",
      "total str  14\n",
      " cls str  0\n"
     ]
    }
   ],
   "source": [
    "tstr = 0\n",
    "for i in roomsList:\n",
    "    print(i.dt)\n",
    "    tstr += (i.row1 + i.row2)\n",
    "print(\"total str \", tstr)\n",
    "cstr = 0\n",
    "for i in clsList:\n",
    "    cstr += i.remaining\n",
    "print(\" cls str \", cstr)"
   ]
  },
  {
   "cell_type": "code",
   "execution_count": 10,
   "id": "50a073d9-0b76-49ba-be56-7fba84780fc3",
   "metadata": {},
   "outputs": [
    {
     "data": {
      "text/plain": [
       "59"
      ]
     },
     "execution_count": 10,
     "metadata": {},
     "output_type": "execute_result"
    }
   ],
   "source": []
  }
 ],
 "metadata": {
  "kernelspec": {
   "display_name": "Python 3 (ipykernel)",
   "language": "python",
   "name": "python3"
  },
  "language_info": {
   "codemirror_mode": {
    "name": "ipython",
    "version": 3
   },
   "file_extension": ".py",
   "mimetype": "text/x-python",
   "name": "python",
   "nbconvert_exporter": "python",
   "pygments_lexer": "ipython3",
   "version": "3.12.4"
  }
 },
 "nbformat": 4,
 "nbformat_minor": 5
}
